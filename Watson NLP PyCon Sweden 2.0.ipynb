{
 "cells": [
  {
   "attachments": {},
   "cell_type": "markdown",
   "metadata": {},
   "source": [
    "# Voice of Customer in Swedish Language with Watson NLP\n",
    "\n",
    "### What is Watson NLP?\n",
    "\n",
    "**Watson NLP** is a State-of-the-art NLP stack with full-suite of NLP algorithms and developer-focused UX. It is built on top of the best AI OSS with IBM Research innovations. Available for 30+ languages including European: Western, Nordic, CEE; CJK, Arabic, Hebrew, Hindi, Turkish. \n",
    "\n",
    "The following natural language processing tasks are available as blocks in the Watson Natural Language Processing library:\n",
    "\n",
    "* Syntax analysis\n",
    "* Keyword extraction and ranking\n",
    "* Entity extraction\n",
    "* Sentiment classification\n",
    "* Etc\n",
    "\n",
    "\n",
    "Many of the pre-trained models are available in many languages. In this workshop, we will perfrom some of the tasks mentioned above in Swedish. You can test other languages by changing 'sv'/'en' to another language code whenever you see it in a model name. Find a list of available languages and language codes here: https://dataplatform.cloud.ibm.com/docs/content/wsj/analyze-data/watson-nlp-block-catalog.html?audience=wdp#lang-codes\n",
    "\n",
    "#### We engage you to experiment and try out Watson NLP with your data!"
   ]
  },
  {
   "cell_type": "markdown",
   "metadata": {},
   "source": [
    "### Import Watson NLP library and create some text in Swedish\n"
   ]
  },
  {
   "cell_type": "markdown",
   "metadata": {},
   "source": [
    "The first step is to import Watson NLP, which is already available to us here in IBM Watson Studio Notebooks. (If you are getting errors, **double check** that you selected **'DO + NLP Runtime 22.1 on Python 3.9'** when creating the notebook)"
   ]
  },
  {
   "cell_type": "code",
   "execution_count": null,
   "metadata": {},
   "outputs": [],
   "source": [
    "import watson_nlp"
   ]
  },
  {
   "cell_type": "markdown",
   "metadata": {},
   "source": [
    "To keep things interesting we created text that we met quite often online in the product reviews left by customers. We make it sure it include mixed sentiment and various entity types, so you can see the beuty of Watson NLP in action. \n",
    "\n",
    "The text in English: \"I can't handle the delivery! You promised that everything will arrive within 3-5 days. But I received the package on Monday and it took 2 weeks! However, I love Joco's shampoo and conditioner and think they are absolutely worth the 500 SEK\"."
   ]
  },
  {
   "cell_type": "code",
   "execution_count": null,
   "metadata": {},
   "outputs": [],
   "source": [
    "#Define Swedish text. To play around with sentiment score we advice you to choose a mix sentiment in that text\n",
    "sv_text= \"Jag orkar inte med leveransen! Ni lovade att allt kommer vara framme inom 3-5 dagar. \\\n",
    "Men jag fick paketet på måndag och det tog 2 veckor! Dock så älskar jag Jocos shampoo och balsam och tycker att de absolut är värda dessa 500 SEK\""
   ]
  },
  {
   "cell_type": "markdown",
   "metadata": {},
   "source": [
    "### Syntax Analysis\n",
    "\n",
    "The Watson Natural Language Processing Syntax block encapsulates syntax analysis functionality. You can use this block to perform task like sentence detection, tokenization, part-of-speech tagging, lemmatization and dependency parsing in different languages.\n",
    "\n",
    "Let's now run the syntax analysis on the Swedish text provided above.\n",
    "\n",
    "The lemma is the root form of a word. For example, the lemma of 'running' is 'run', 'cats' is 'cat' etc. Part of speech is that thing we learn in high school but may have forgotten about by now, examples include 'noun' and 'adjective'."
   ]
  },
  {
   "cell_type": "code",
   "execution_count": null,
   "metadata": {},
   "outputs": [],
   "source": [
    "# Load Syntax for Swedish language\n",
    "syntax_model = watson_nlp.load(watson_nlp.download('syntax_izumo_sv_stock'))\n",
    "\n",
    "# Detect tokens, lemma and part-of-speech\n",
    "syntax_prediction = syntax_model.run(sv_text, parsers=('token', 'lemma', 'part_of_speech'))\n",
    "\n",
    "# Print the syntax result\n",
    "print(syntax_prediction)"
   ]
  },
  {
   "cell_type": "markdown",
   "metadata": {},
   "source": [
    "### Sentiment Analysis\n",
    "\n",
    "In this exercise, we will explore the sentiment models that are available out-of-the-box for Swedish. Start by predicting the sentiment on a sentence level, and then the aggregated sentiment for the full text. In Watson NLP, sentiment can be either 'positive', 'negative', or 'neutral'."
   ]
  },
  {
   "cell_type": "code",
   "execution_count": null,
   "metadata": {},
   "outputs": [],
   "source": [
    "#Load Sentiment multi-lingual model \n",
    "sentiment_model = watson_nlp.load(watson_nlp.download('sentiment_sentence-bert_multi_stock'))\n"
   ]
  },
  {
   "cell_type": "markdown",
   "metadata": {},
   "source": [
    "We are now ready to run the sentiment model on the results from the syntax model from the previous section.\n",
    "\n",
    "For each setence you can see a score. A negative score means that the model predicts that the sentiment is negative. A positive score means that the model predicts that the sentiment is positive. A score of 0 means neutral."
   ]
  },
  {
   "cell_type": "code",
   "execution_count": null,
   "metadata": {},
   "outputs": [],
   "source": [
    "#Let's see the score for every sentence\n",
    "sentiment_result = sentiment_model.run_batch(syntax_prediction.get_sentence_texts(), syntax_prediction.sentences)\n",
    "print(sentiment_result)"
   ]
  },
  {
   "cell_type": "markdown",
   "metadata": {},
   "source": [
    "Our last step of this exercise is to use the sentiment_result from the previous step and predict the agreggated sentiment for the entire text."
   ]
  },
  {
   "cell_type": "code",
   "execution_count": null,
   "metadata": {},
   "outputs": [],
   "source": [
    "#Let's see the score for the whole comment left by our customer\n",
    "from watson_nlp.toolkit import predict_document_sentiment\n",
    "document_sentiment = predict_document_sentiment(sentiment_result, sentiment_model.class_idxs)\n",
    "print(document_sentiment)"
   ]
  },
  {
   "attachments": {},
   "cell_type": "markdown",
   "metadata": {},
   "source": [
    "### Entity Analysis\n",
    "\n",
    "Watson NLP has 20 entity types in total, where 13 are machine learning entities and 7 are ruled-based entities. \n",
    "\n",
    "\n",
    "**ML Entities**: Person,Organization, Location, Facility, Geographic Feature, Job Title, Date, Time, Duration, Money, Measure, Ordinal, Phone Number. \n",
    "\n",
    "**Rule-based Entities**: Email Address, IP Address,URL, Twitter Handle,Hash Tag, Number, Percent.\n",
    "\n",
    "Let's see what entity types are hiden in our example. Here you can compare your human point of view with Watson NLP. We remind you English translation of the text, that Watson will analyse:\n",
    "\n",
    "\"I can't handle the delivery! You promised that everything will arrive within 3-5 days. But I received the package on Monday and it took 2 weeks! However, I love Joco's shampoo and conditioner and think they are absolutely worth the 500 SEK\".\n"
   ]
  },
  {
   "cell_type": "code",
   "execution_count": null,
   "metadata": {},
   "outputs": [],
   "source": [
    "#Download Entity multilingual model\n",
    "bert_entity_model = watson_nlp.load(watson_nlp.download('entity-mentions_bert_multi_stock'))"
   ]
  },
  {
   "cell_type": "code",
   "execution_count": null,
   "metadata": {},
   "outputs": [],
   "source": [
    "# Run the entity mention model on the result of syntax model\n",
    "bert_entity_mentions = bert_entity_model.run(syntax_prediction)\n",
    "print(bert_entity_mentions)"
   ]
  },
  {
   "cell_type": "markdown",
   "metadata": {},
   "source": [
    "#### Thank you for your interest to Watson NLP! Curious for more?\n",
    "\n",
    "Here are some useful links:\n",
    "\n",
    "* Sample Watson NLP project from Gallery in Cloud Pak for Data: https://eu-de.dataplatform.cloud.ibm.com/exchange/public/entry/view/636001e59902133a4a23fd89f010e4cb?context=cpdaas\n",
    "\n",
    "\n",
    "* IBM official documentation of Watson NLP, you will find all the blocks that are available and what languages are supported for each block: https://dataplatform.cloud.ibm.com/docs/content/wsj/analyze-data/watson-nlp.html?\n",
    "context=cpdaas&audience=wdp\n",
    "\n",
    "\n",
    "* See the README.md file in this repository for more useful links.\n",
    "\n"
   ]
  },
  {
   "attachments": {
    "Screenshot%202022-11-02%20at%2022.26.39.png": {
     "image/png": "[encoded data removed]"
    }
   },
   "cell_type": "markdown",
   "metadata": {},
   "source": [
    "**This notebook was prapared by IBMers:\n",
    "Anna K. Lindegren, Malin Uhlander, Sara Elo Dean and Wanmeng He.**\n",
    "\n",
    "\n",
    "### Any questions?\n",
    "\n",
    "![Screenshot%202022-11-02%20at%2022.26.39.png](attachment:Screenshot%202022-11-02%20at%2022.26.39.png)"
   ]
  }
 ],
 "metadata": {
  "kernelspec": {
   "display_name": "Python 3 (ipykernel)",
   "language": "python",
   "name": "python3"
  },
  "language_info": {
   "codemirror_mode": {
    "name": "ipython",
    "version": 3
   },
   "file_extension": ".py",
   "mimetype": "text/x-python",
   "name": "python",
   "nbconvert_exporter": "python",
   "pygments_lexer": "ipython3",
   "version": "3.10.7"
  }
 },
 "nbformat": 4,
 "nbformat_minor": 1
}
