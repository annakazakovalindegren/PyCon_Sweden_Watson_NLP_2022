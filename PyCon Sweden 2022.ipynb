{
 "cells": [
  {
   "cell_type": "code",
   "execution_count": 1,
   "id": "45c69a98",
   "metadata": {},
   "outputs": [
    {
     "ename": "ModuleNotFoundError",
     "evalue": "No module named 'watson_nlp'",
     "output_type": "error",
     "traceback": [
      "\u001b[0;31m---------------------------------------------------------------------------\u001b[0m",
      "\u001b[0;31mModuleNotFoundError\u001b[0m                       Traceback (most recent call last)",
      "Cell \u001b[0;32mIn [1], line 1\u001b[0m\n\u001b[0;32m----> 1\u001b[0m \u001b[38;5;28;01mimport\u001b[39;00m \u001b[38;5;21;01mwatson_nlp\u001b[39;00m\n",
      "\u001b[0;31mModuleNotFoundError\u001b[0m: No module named 'watson_nlp'"
     ]
    }
   ],
   "source": [
    "import watson_nlp\n"
   ]
  },
  {
   "cell_type": "code",
   "execution_count": 4,
   "id": "3fce97c4",
   "metadata": {},
   "outputs": [
    {
     "ename": "SyntaxError",
     "evalue": "unterminated string literal (detected at line 2) (47461920.py, line 2)",
     "output_type": "error",
     "traceback": [
      "\u001b[0;36m  Cell \u001b[0;32mIn [4], line 2\u001b[0;36m\u001b[0m\n\u001b[0;31m    Det tog 2 veckor att få paket!!! Dock jag älskar shampoo och balsam och tycket att de absolut värd dessa 500 sek\"\u001b[0m\n\u001b[0m                                                                                                                    ^\u001b[0m\n\u001b[0;31mSyntaxError\u001b[0m\u001b[0;31m:\u001b[0m unterminated string literal (detected at line 2)\n"
     ]
    }
   ],
   "source": [
    "#Define Swedish text. To play around with sentiment score we advice you to choose a mix sentiment in that text\n",
    "\n",
    "sv_text=\"Jag orkar inte med leveransen! Ni lovade att allt kommer vara fram inom 3-5 dagar. \\\n",
    "Det tog 2 veckor att få paket!!! Dock jag älskar shampoo och balsam och tycket att de absolut värd dessa 500 sek\""
   ]
  },
  {
   "cell_type": "markdown",
   "id": "9a903eff",
   "metadata": {},
   "source": [
    "Syntax Analysis\n",
    "\n",
    "At our presentation we have been talking about IZUMO as a basic NLP Primitive. Here are some analysis connected to IZUMO parser functionality.\n"
   ]
  },
  {
   "cell_type": "code",
   "execution_count": 5,
   "id": "8b3dc946",
   "metadata": {},
   "outputs": [
    {
     "ename": "NameError",
     "evalue": "name 'watson_nlp' is not defined",
     "output_type": "error",
     "traceback": [
      "\u001b[0;31m---------------------------------------------------------------------------\u001b[0m",
      "\u001b[0;31mNameError\u001b[0m                                 Traceback (most recent call last)",
      "Cell \u001b[0;32mIn [5], line 2\u001b[0m\n\u001b[1;32m      1\u001b[0m \u001b[38;5;66;03m# Load Syntax for Swedish\u001b[39;00m\n\u001b[0;32m----> 2\u001b[0m syntax_model \u001b[38;5;241m=\u001b[39m \u001b[43mwatson_nlp\u001b[49m\u001b[38;5;241m.\u001b[39mload(watson_nlp\u001b[38;5;241m.\u001b[39mdownload(\u001b[38;5;124m'\u001b[39m\u001b[38;5;124msyntax_izumo_sv_stock\u001b[39m\u001b[38;5;124m'\u001b[39m))\n\u001b[1;32m      4\u001b[0m \u001b[38;5;66;03m# Detect tokens, lemma and part-of-speech\u001b[39;00m\n\u001b[1;32m      5\u001b[0m syntax_prediction \u001b[38;5;241m=\u001b[39m syntax_model\u001b[38;5;241m.\u001b[39mrun(sv_text, parsers\u001b[38;5;241m=\u001b[39m(\u001b[38;5;124m'\u001b[39m\u001b[38;5;124mtoken\u001b[39m\u001b[38;5;124m'\u001b[39m, \u001b[38;5;124m'\u001b[39m\u001b[38;5;124mlemma\u001b[39m\u001b[38;5;124m'\u001b[39m, \u001b[38;5;124m'\u001b[39m\u001b[38;5;124mpart_of_speech\u001b[39m\u001b[38;5;124m'\u001b[39m))\n",
      "\u001b[0;31mNameError\u001b[0m: name 'watson_nlp' is not defined"
     ]
    }
   ],
   "source": [
    "# Load Syntax for Swedish language\n",
    "syntax_model = watson_nlp.load(watson_nlp.download('syntax_izumo_sv_stock'))\n",
    "\n",
    "# Detect tokens, lemma and part-of-speech\n",
    "syntax_prediction = syntax_model.run(sv_text, parsers=('token', 'lemma', 'part_of_speech'))\n",
    "\n",
    "# Print the syntax result\n",
    "print(syntax_prediction)"
   ]
  },
  {
   "cell_type": "markdown",
   "id": "1521697a",
   "metadata": {},
   "source": [
    "Sentiment Analysis\n",
    "\n",
    "The sentiment model that we can call from Watson studio is a multilingual model, so we do not have to define the language. "
   ]
  },
  {
   "cell_type": "code",
   "execution_count": 6,
   "id": "2283241f",
   "metadata": {},
   "outputs": [],
   "source": [
    "#Load Sentiment multi-lingual model \n",
    "sentiment_model = watson_nlp.load(watson_nlp.download('sentiment_sentence-bert_multi_stock'))"
   ]
  },
  {
   "cell_type": "code",
   "execution_count": 8,
   "id": "823c235c",
   "metadata": {},
   "outputs": [],
   "source": [
    "#Let's see the score for every sentence\n",
    "sentiment_result = sentiment_model.run_batch(syntax_prediction.get_sentence_texts(), syntax_prediction.sentences)\n",
    "print(sentiment_result)"
   ]
  },
  {
   "cell_type": "code",
   "execution_count": 10,
   "id": "4592c30e",
   "metadata": {},
   "outputs": [
    {
     "ename": "ModuleNotFoundError",
     "evalue": "No module named 'watson_nlp'",
     "output_type": "error",
     "traceback": [
      "\u001b[0;31m---------------------------------------------------------------------------\u001b[0m",
      "\u001b[0;31mModuleNotFoundError\u001b[0m                       Traceback (most recent call last)",
      "Cell \u001b[0;32mIn [10], line 2\u001b[0m\n\u001b[1;32m      1\u001b[0m \u001b[38;5;66;03m#Let's see the score for the whole comment left by our customer\u001b[39;00m\n\u001b[0;32m----> 2\u001b[0m \u001b[38;5;28;01mfrom\u001b[39;00m \u001b[38;5;21;01mwatson_nlp\u001b[39;00m\u001b[38;5;21;01m.\u001b[39;00m\u001b[38;5;21;01mtoolkit\u001b[39;00m \u001b[38;5;28;01mimport\u001b[39;00m predict_document_sentiment\n\u001b[1;32m      3\u001b[0m document_sentiment \u001b[38;5;241m=\u001b[39m predict_document_sentiment(sentiment_result, sentiment_model\u001b[38;5;241m.\u001b[39mclass_idxs)\n\u001b[1;32m      4\u001b[0m \u001b[38;5;28mprint\u001b[39m(document_sentiment)\n",
      "\u001b[0;31mModuleNotFoundError\u001b[0m: No module named 'watson_nlp'"
     ]
    }
   ],
   "source": [
    "#Let's see the score for the whole comment left by our customer\n",
    "from watson_nlp.toolkit import predict_document_sentiment\n",
    "document_sentiment = predict_document_sentiment(sentiment_result, sentiment_model.class_idxs)\n",
    "print(document_sentiment)\n"
   ]
  },
  {
   "cell_type": "code",
   "execution_count": null,
   "id": "454ba8c8",
   "metadata": {},
   "outputs": [],
   "source": []
  }
 ],
 "metadata": {
  "kernelspec": {
   "display_name": "Python 3 (ipykernel)",
   "language": "python",
   "name": "python3"
  },
  "language_info": {
   "codemirror_mode": {
    "name": "ipython",
    "version": 3
   },
   "file_extension": ".py",
   "mimetype": "text/x-python",
   "name": "python",
   "nbconvert_exporter": "python",
   "pygments_lexer": "ipython3",
   "version": "3.10.7"
  }
 },
 "nbformat": 4,
 "nbformat_minor": 5
}
